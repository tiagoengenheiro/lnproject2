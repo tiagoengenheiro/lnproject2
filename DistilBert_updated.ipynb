{
  "cells": [
    {
      "cell_type": "code",
      "execution_count": 4,
      "metadata": {
        "colab": {
          "base_uri": "https://localhost:8080/"
        },
        "id": "KNuXEMTGOVKr",
        "outputId": "e40e10e4-ecb6-497c-babb-5efe1a401b96"
      },
      "outputs": [],
      "source": [
        "# !pip install transformers\n",
        "# !pip install datasets\n",
        "# !pip install evaluate\n",
        "# !pip install \"tf-models-official==2.13.*\"\n",
        "\n",
        "#https://medium.com/geekculture/hugging-face-distilbert-tensorflow-for-custom-text-classification-1ad4a49e26a7"
      ]
    },
    {
      "cell_type": "code",
      "execution_count": 36,
      "metadata": {
        "id": "i29aQ-ltOjHz"
      },
      "outputs": [],
      "source": [
        "import pandas as pd\n",
        "from transformers import DistilBertTokenizer, DistilBertForSequenceClassification\n",
        "from datasets import Dataset\n",
        "from transformers import TrainingArguments, Trainer\n",
        "import matplotlib.pyplot as plt\n",
        "import numpy as np\n",
        "from official.nlp import optimization\n",
        "\n",
        "#MODEL_NAME = 'distilbert-base-uncased-finetuned-sst-2-english'\n",
        "#MODEL_NAME = 'distilbert-base-cased'\n",
        "MODEL_NAME= 'distilbert-base-uncased'\n",
        "tokenizer = DistilBertTokenizer.from_pretrained(MODEL_NAME)\n",
        "\n",
        "def label_mapping(example):\n",
        "    mapping={\n",
        "        \"DECEPTIVENEGATIVE\":0,\n",
        "        \"DECEPTIVEPOSITIVE\":1,\n",
        "        \"TRUTHFULNEGATIVE\":2,\n",
        "        \"TRUTHFULPOSITIVE\":3,\n",
        "    }\n",
        "    return {\"label\":mapping[example[\"label\"]]}\n",
        "\n",
        "\n",
        "def tokenize_function(examples):\n",
        "    return tokenizer(examples[\"text\"], padding=\"max_length\", truncation=True)\n",
        "\n",
        "def train_pre_processing(txt_file):\n",
        "  df=pd.read_csv(txt_file,sep=\"\\t\",names=[\"LABEL\",\"REVIEW\"])\n",
        "  dataset = Dataset.from_pandas(df)\n",
        "  dataset=dataset.rename_columns({\"LABEL\":\"label\",\"REVIEW\":\"text\"})\n",
        "  dataset=dataset.train_test_split(test_size=0.2,shuffle=True)\n",
        "\n",
        "  dataset=dataset.map(label_mapping,batched=False)\n",
        "  tokenized_datasets = dataset.map(tokenize_function, batched=True)\n",
        "  tokenized_datasets = tokenized_datasets.remove_columns([\"text\"])\n",
        "  tokenized_datasets = tokenized_datasets.rename_column(\"label\", \"labels\")\n",
        "  return tokenized_datasets\n",
        "\n",
        "def test_pre_processing(txt_file):\n",
        "  with open(txt_file, \"r\") as file:\n",
        "      content = file.read()\n",
        "  content=content.splitlines()\n",
        "  df=pd.DataFrame(content,columns=[\"REVIEW\"])\n",
        "  dataset = Dataset.from_pandas(df)\n",
        "  dataset=dataset.rename_columns({\"REVIEW\":\"text\"})\n",
        "  tokenized_datasets = dataset.map(tokenize_function, batched=True)\n",
        "  tokenized_datasets = tokenized_datasets.remove_columns([\"text\"])\n",
        "  return tokenized_datasets\n",
        "\n",
        "def get_predictions(model,dataset):\n",
        "  preds=model.predict(dataset)\n",
        "  return np.argmax(preds.logits,axis=1)\n",
        "\n",
        "\n",
        "#tokenized_datasets[\"train\"] = tokenized_datasets[\"train\"].shuffle(seed=42).select(range(100))\n",
        "#tokenized_datasets[\"test\"] = tokenized_datasets[\"test\"].shuffle(seed=42).select(range(10))"
      ]
    },
    {
      "cell_type": "code",
      "execution_count": 40,
      "metadata": {
        "colab": {
          "base_uri": "https://localhost:8080/",
          "height": 514
        },
        "id": "Af3UsPbDnZ3v",
        "outputId": "bd33a9cf-8c12-4a9e-a362-a164be7b3d23"
      },
      "outputs": [
        {
          "name": "stderr",
          "output_type": "stream",
          "text": [
            "2023-10-24 18:23:11.335051: I tensorflow/compiler/xla/stream_executor/cuda/cuda_gpu_executor.cc:880] could not open file to read NUMA node: /sys/bus/pci/devices/0000:01:00.0/numa_node\n",
            "Your kernel may have been built without NUMA support.\n",
            "2023-10-24 18:23:11.351107: I tensorflow/compiler/xla/stream_executor/cuda/cuda_gpu_executor.cc:880] could not open file to read NUMA node: /sys/bus/pci/devices/0000:01:00.0/numa_node\n",
            "Your kernel may have been built without NUMA support.\n",
            "2023-10-24 18:23:11.351156: I tensorflow/compiler/xla/stream_executor/cuda/cuda_gpu_executor.cc:880] could not open file to read NUMA node: /sys/bus/pci/devices/0000:01:00.0/numa_node\n",
            "Your kernel may have been built without NUMA support.\n",
            "2023-10-24 18:23:11.353896: I tensorflow/compiler/xla/stream_executor/cuda/cuda_gpu_executor.cc:880] could not open file to read NUMA node: /sys/bus/pci/devices/0000:01:00.0/numa_node\n",
            "Your kernel may have been built without NUMA support.\n",
            "2023-10-24 18:23:11.353959: I tensorflow/compiler/xla/stream_executor/cuda/cuda_gpu_executor.cc:880] could not open file to read NUMA node: /sys/bus/pci/devices/0000:01:00.0/numa_node\n",
            "Your kernel may have been built without NUMA support.\n",
            "2023-10-24 18:23:11.353981: I tensorflow/compiler/xla/stream_executor/cuda/cuda_gpu_executor.cc:880] could not open file to read NUMA node: /sys/bus/pci/devices/0000:01:00.0/numa_node\n",
            "Your kernel may have been built without NUMA support.\n",
            "2023-10-24 18:23:12.275751: I tensorflow/compiler/xla/stream_executor/cuda/cuda_gpu_executor.cc:880] could not open file to read NUMA node: /sys/bus/pci/devices/0000:01:00.0/numa_node\n",
            "Your kernel may have been built without NUMA support.\n",
            "2023-10-24 18:23:12.276192: I tensorflow/compiler/xla/stream_executor/cuda/cuda_gpu_executor.cc:880] could not open file to read NUMA node: /sys/bus/pci/devices/0000:01:00.0/numa_node\n",
            "Your kernel may have been built without NUMA support.\n",
            "2023-10-24 18:23:12.276208: I tensorflow/core/common_runtime/gpu/gpu_device.cc:1977] Could not identify NUMA node of platform GPU id 0, defaulting to 0.  Your kernel may not have been built with NUMA support.\n",
            "2023-10-24 18:23:12.276270: I tensorflow/compiler/xla/stream_executor/cuda/cuda_gpu_executor.cc:880] could not open file to read NUMA node: /sys/bus/pci/devices/0000:01:00.0/numa_node\n",
            "Your kernel may have been built without NUMA support.\n",
            "2023-10-24 18:23:12.276330: I tensorflow/core/common_runtime/gpu/gpu_device.cc:1886] Created device /job:localhost/replica:0/task:0/device:GPU:0 with 5409 MB memory:  -> device: 0, name: NVIDIA GeForce RTX 3070 Laptop GPU, pci bus id: 0000:01:00.0, compute capability: 8.6\n",
            "2023-10-24 18:23:12.940262: I tensorflow/tsl/platform/default/subprocess.cc:304] Start cannot spawn child process: No such file or directory\n",
            "Some weights of the PyTorch model were not used when initializing the TF 2.0 model TFDistilBertForSequenceClassification: ['vocab_transform.bias', 'vocab_transform.weight', 'vocab_layer_norm.weight', 'vocab_projector.bias', 'vocab_layer_norm.bias']\n",
            "- This IS expected if you are initializing TFDistilBertForSequenceClassification from a PyTorch model trained on another task or with another architecture (e.g. initializing a TFBertForSequenceClassification model from a BertForPreTraining model).\n",
            "- This IS NOT expected if you are initializing TFDistilBertForSequenceClassification from a PyTorch model that you expect to be exactly identical (e.g. initializing a TFBertForSequenceClassification model from a BertForSequenceClassification model).\n",
            "Some weights or buffers of the TF 2.0 model TFDistilBertForSequenceClassification were not initialized from the PyTorch model and are newly initialized: ['pre_classifier.weight', 'pre_classifier.bias', 'classifier.weight', 'classifier.bias']\n",
            "You should probably TRAIN this model on a down-stream task to be able to use it for predictions and inference.\n",
            "Map: 100%|██████████| 1120/1120 [00:00<00:00, 20942.16 examples/s]\n",
            "Map: 100%|██████████| 280/280 [00:00<00:00, 18112.91 examples/s]\n",
            "Map: 100%|██████████| 1120/1120 [00:01<00:00, 569.71 examples/s]\n",
            "Map: 100%|██████████| 280/280 [00:00<00:00, 608.06 examples/s]\n",
            "/home/maria/.local/lib/python3.10/site-packages/datasets/arrow_dataset.py:400: FutureWarning: The output of `to_tf_dataset` will change when a passing single element list for `labels` or `columns` in the next datasets version. To return a tuple structure rather than dict, pass a single string.\n",
            "Old behaviour: columns=['a'], labels=['labels'] -> (tf.Tensor, tf.Tensor)  \n",
            "             : columns='a', labels='labels' -> (tf.Tensor, tf.Tensor)  \n",
            "New behaviour: columns=['a'],labels=['labels'] -> ({'a': tf.Tensor}, {'labels': tf.Tensor})  \n",
            "             : columns='a', labels='labels' -> (tf.Tensor, tf.Tensor) \n",
            "  warnings.warn(\n"
          ]
        }
      ],
      "source": [
        "import tensorflow as tf\n",
        "from transformers import TFDistilBertForSequenceClassification\n",
        "\n",
        "from transformers import DefaultDataCollator\n",
        "import pandas as pd\n",
        "from transformers import DistilBertTokenizer, DistilBertForSequenceClassification\n",
        "from datasets import Dataset\n",
        "from transformers import TrainingArguments, Trainer\n",
        "import matplotlib.pyplot as plt\n",
        "import numpy as np\n",
        "from official.nlp import optimization\n",
        "from sklearn.metrics import accuracy_score\n",
        "\n",
        "\n",
        "seed=812\n",
        "tf.keras.utils.set_random_seed(seed)\n",
        "\n",
        "model = TFDistilBertForSequenceClassification.from_pretrained(MODEL_NAME,num_labels=4)\n",
        "\n",
        "batch_size=8\n",
        "epochs=6\n",
        "\n",
        "data_collator = DefaultDataCollator(return_tensors=\"tf\")\n",
        "tokenizer = DistilBertTokenizer.from_pretrained(MODEL_NAME)\n",
        "tokenized_datasets=train_pre_processing(\"train.txt\")\n",
        "\n",
        "tf_train_dataset = tokenized_datasets[\"train\"].to_tf_dataset(\n",
        "    columns=[\"attention_mask\", \"input_ids\"],\n",
        "    label_cols=[\"labels\"],\n",
        "    shuffle=True,\n",
        "    collate_fn=data_collator,\n",
        "    batch_size=batch_size,\n",
        ")\n",
        "\n",
        "tf_validation_dataset = tokenized_datasets[\"test\"].to_tf_dataset(\n",
        "    columns=[\"attention_mask\", \"input_ids\"],\n",
        "    label_cols=[\"labels\"],\n",
        "    shuffle=False,\n",
        "    collate_fn=data_collator,\n",
        "    batch_size=batch_size,\n",
        ")\n"
      ]
    },
    {
      "cell_type": "code",
      "execution_count": 7,
      "metadata": {
        "colab": {
          "base_uri": "https://localhost:8080/"
        },
        "id": "Tplcfq27oN3v",
        "outputId": "06ebe6c0-3aa1-4be8-ca19-0769107fed3b"
      },
      "outputs": [],
      "source": [
        "steps_per_epoch = tf.data.experimental.cardinality(tf_train_dataset).numpy()\n",
        "num_train_steps = steps_per_epoch * epochs\n",
        "num_warmup_steps = int(0.1*num_train_steps)\n",
        "\n",
        "init_lr = 3e-5\n",
        "optimizer = optimization.create_optimizer(init_lr=init_lr,\n",
        "                                          num_train_steps=num_train_steps,\n",
        "                                          num_warmup_steps=num_warmup_steps,\n",
        "                                          optimizer_type='adamw')\n",
        "\n",
        "model.compile(\n",
        "    #optimizer=tf.keras.optimizers.AdamW(init_lr),\n",
        "    optimizer=optimizer,\n",
        "    loss=tf.keras.losses.SparseCategoricalCrossentropy(from_logits=True),\n",
        "    metrics=tf.metrics.SparseCategoricalAccuracy(),\n",
        ")\n",
        "\n",
        "# loss, acc=model.evaluate(tf_validation_dataset)\n",
        "# print('Restored model, accuracy: {:5.2f}%'.format(100 * acc))\n"
      ]
    },
    {
      "cell_type": "code",
      "execution_count": 8,
      "metadata": {},
      "outputs": [
        {
          "name": "stdout",
          "output_type": "stream",
          "text": [
            "Model: \"tf_distil_bert_for_sequence_classification_1\"\n",
            "_________________________________________________________________\n",
            " Layer (type)                Output Shape              Param #   \n",
            "=================================================================\n",
            " distilbert (TFDistilBertMa  multiple                  66362880  \n",
            " inLayer)                                                        \n",
            "                                                                 \n",
            " pre_classifier (Dense)      multiple                  590592    \n",
            "                                                                 \n",
            " classifier (Dense)          multiple                  3076      \n",
            "                                                                 \n",
            " dropout_39 (Dropout)        multiple                  0         \n",
            "                                                                 \n",
            "=================================================================\n",
            "Total params: 66956548 (255.42 MB)\n",
            "Trainable params: 66956548 (255.42 MB)\n",
            "Non-trainable params: 0 (0.00 Byte)\n",
            "_________________________________________________________________\n"
          ]
        }
      ],
      "source": [
        "model.summary()"
      ]
    },
    {
      "cell_type": "code",
      "execution_count": 9,
      "metadata": {
        "id": "QfT--UIg-iuE"
      },
      "outputs": [
        {
          "name": "stdout",
          "output_type": "stream",
          "text": [
            "Epoch 1/6\n",
            "140/140 [==============================] - 56s 340ms/step - loss: 1.0540 - sparse_categorical_accuracy: 0.5241 - val_loss: 0.6920 - val_sparse_categorical_accuracy: 0.6679\n",
            "Epoch 2/6\n",
            "140/140 [==============================] - 47s 336ms/step - loss: 0.4770 - sparse_categorical_accuracy: 0.8259 - val_loss: 0.5875 - val_sparse_categorical_accuracy: 0.7500\n",
            "Epoch 3/6\n",
            "140/140 [==============================] - 46s 331ms/step - loss: 0.2593 - sparse_categorical_accuracy: 0.9134 - val_loss: 0.6075 - val_sparse_categorical_accuracy: 0.7750\n",
            "Epoch 4/6\n",
            "140/140 [==============================] - 48s 343ms/step - loss: 0.1055 - sparse_categorical_accuracy: 0.9679 - val_loss: 0.3550 - val_sparse_categorical_accuracy: 0.8893\n",
            "Epoch 5/6\n",
            "140/140 [==============================] - 49s 347ms/step - loss: 0.0328 - sparse_categorical_accuracy: 0.9929 - val_loss: 0.3240 - val_sparse_categorical_accuracy: 0.9000\n",
            "Epoch 6/6\n",
            "140/140 [==============================] - 47s 337ms/step - loss: 0.0203 - sparse_categorical_accuracy: 0.9973 - val_loss: 0.3635 - val_sparse_categorical_accuracy: 0.8964\n"
          ]
        }
      ],
      "source": [
        "import os\n",
        "optimizer_type='customized'\n",
        "#optimizer_type='adamW'\n",
        "save_model_dir=os.path.join(os.getcwd(),f\"model_seed_{seed}_epcs_{epochs}_bs_{batch_size}_lr_{init_lr}_opt_{optimizer_type}\")\n",
        "callbacks = [tf.keras.callbacks.EarlyStopping(monitor='val_loss', patience=2),\n",
        "             tf.keras.callbacks.ModelCheckpoint(filepath=save_model_dir, monitor='val_loss',save_best_only=True,save_weights_only=True)]\n",
        "H=model.fit(tf_train_dataset, validation_data=tf_validation_dataset, epochs=epochs,callbacks=callbacks)"
      ]
    },
    {
      "cell_type": "code",
      "execution_count": 30,
      "metadata": {},
      "outputs": [],
      "source": [
        "model.save_weights('my_model_weights.h5')"
      ]
    },
    {
      "cell_type": "code",
      "execution_count": 41,
      "metadata": {},
      "outputs": [
        {
          "name": "stderr",
          "output_type": "stream",
          "text": [
            "Some weights of the PyTorch model were not used when initializing the TF 2.0 model TFDistilBertForSequenceClassification: ['vocab_transform.bias', 'vocab_transform.weight', 'vocab_layer_norm.weight', 'vocab_projector.bias', 'vocab_layer_norm.bias']\n",
            "- This IS expected if you are initializing TFDistilBertForSequenceClassification from a PyTorch model trained on another task or with another architecture (e.g. initializing a TFBertForSequenceClassification model from a BertForPreTraining model).\n",
            "- This IS NOT expected if you are initializing TFDistilBertForSequenceClassification from a PyTorch model that you expect to be exactly identical (e.g. initializing a TFBertForSequenceClassification model from a BertForSequenceClassification model).\n",
            "Some weights or buffers of the TF 2.0 model TFDistilBertForSequenceClassification were not initialized from the PyTorch model and are newly initialized: ['pre_classifier.weight', 'pre_classifier.bias', 'classifier.weight', 'classifier.bias']\n",
            "You should probably TRAIN this model on a down-stream task to be able to use it for predictions and inference.\n"
          ]
        }
      ],
      "source": [
        "saved_model = TFDistilBertForSequenceClassification.from_pretrained(MODEL_NAME,num_labels=4)"
      ]
    },
    {
      "cell_type": "code",
      "execution_count": 45,
      "metadata": {},
      "outputs": [
        {
          "data": {
            "text/plain": [
              "<tensorflow.python.checkpoint.checkpoint.CheckpointLoadStatus at 0x7f3999816860>"
            ]
          },
          "execution_count": 45,
          "metadata": {},
          "output_type": "execute_result"
        }
      ],
      "source": [
        "saved_model.load_weights(\"saved_models/model_1_0.9/cp.ckpt\")"
      ]
    },
    {
      "cell_type": "code",
      "execution_count": 13,
      "metadata": {
        "colab": {
          "base_uri": "https://localhost:8080/"
        },
        "id": "uDAiK6LgSBpd",
        "outputId": "35020591-30dc-4ee6-dae5-6430600e7072"
      },
      "outputs": [
        {
          "name": "stdout",
          "output_type": "stream",
          "text": [
            "35/35 [==============================] - 5s 101ms/step\n"
          ]
        }
      ],
      "source": [
        "preds=get_predictions(saved_model,tf_validation_dataset)"
      ]
    },
    {
      "cell_type": "code",
      "execution_count": 14,
      "metadata": {
        "id": "G1EXfD8O7kT9"
      },
      "outputs": [
        {
          "data": {
            "text/plain": [
              "0.9"
            ]
          },
          "execution_count": 14,
          "metadata": {},
          "output_type": "execute_result"
        }
      ],
      "source": [
        "accuracy_score(tokenized_datasets[\"test\"][\"labels\"],preds)"
      ]
    },
    {
      "cell_type": "code",
      "execution_count": 16,
      "metadata": {
        "id": "EoK4N5cSPz7z"
      },
      "outputs": [
        {
          "name": "stdout",
          "output_type": "stream",
          "text": [
            "dict_keys(['loss', 'sparse_categorical_accuracy', 'val_loss', 'val_sparse_categorical_accuracy'])\n"
          ]
        },
        {
          "data": {
            "text/plain": [
              "<matplotlib.legend.Legend at 0x7f2fc834ee60>"
            ]
          },
          "execution_count": 16,
          "metadata": {},
          "output_type": "execute_result"
        },
        {
          "data": {
            "image/png": "[encoded data removed]",
            "text/plain": [
              "<Figure size 1000x600 with 2 Axes>"
            ]
          },
          "metadata": {},
          "output_type": "display_data"
        }
      ],
      "source": [
        "history_dict = H.history\n",
        "print(history_dict.keys())\n",
        "\n",
        "acc = history_dict['sparse_categorical_accuracy']\n",
        "val_acc = history_dict['val_sparse_categorical_accuracy']\n",
        "loss = history_dict['loss']\n",
        "val_loss = history_dict['val_loss']\n",
        "\n",
        "epochs = range(1, len(acc) + 1)\n",
        "fig = plt.figure(figsize=(10, 6))\n",
        "fig.tight_layout()\n",
        "\n",
        "plt.subplot(2, 1, 1)\n",
        "# r is for \"solid red line\"\n",
        "plt.plot(epochs, loss, 'r', label='Training loss')\n",
        "# b is for \"solid blue line\"\n",
        "plt.plot(epochs, val_loss, 'b', label='Validation loss')\n",
        "plt.title('Training and validation loss')\n",
        "# plt.xlabel('Epochs')\n",
        "plt.ylabel('Loss')\n",
        "plt.legend()\n",
        "\n",
        "plt.subplot(2, 1, 2)\n",
        "plt.plot(epochs, acc, 'r', label='Training acc')\n",
        "plt.plot(epochs, val_acc, 'b', label='Validation acc')\n",
        "plt.title('Training and validation accuracy')\n",
        "plt.xlabel('Epochs')\n",
        "plt.ylabel('Accuracy')\n",
        "plt.legend(loc='lower right')"
      ]
    },
    {
      "cell_type": "code",
      "execution_count": null,
      "metadata": {
        "colab": {
          "base_uri": "https://localhost:8080/"
        },
        "id": "hYtkYTb_JjCB",
        "outputId": "472e9c87-0391-4844-f9ad-24ac27bfc9c3"
      },
      "outputs": [
        {
          "name": "stdout",
          "output_type": "stream",
          "text": [
            "<_PrefetchDataset element_spec=({'input_ids': TensorSpec(shape=(None, 512), dtype=tf.int64, name=None), 'attention_mask': TensorSpec(shape=(None, 512), dtype=tf.int64, name=None)}, TensorSpec(shape=(None,), dtype=tf.int64, name=None))>\n"
          ]
        }
      ],
      "source": [
        "print(tf_validation_dataset)"
      ]
    },
    {
      "cell_type": "code",
      "execution_count": 6,
      "metadata": {},
      "outputs": [],
      "source": [
        "import pandas as pd\n",
        "import os"
      ]
    },
    {
      "cell_type": "code",
      "execution_count": 47,
      "metadata": {},
      "outputs": [
        {
          "name": "stderr",
          "output_type": "stream",
          "text": [
            "Map: 100%|██████████| 200/200 [00:00<00:00, 566.09 examples/s]\n"
          ]
        }
      ],
      "source": [
        "test_tokenized=test_pre_processing(\"test_just_reviews.txt\")\n",
        "\n",
        "tf_test_dataset = test_tokenized.to_tf_dataset(\n",
        "    columns=[\"attention_mask\", \"input_ids\"],\n",
        "    shuffle=False,\n",
        "    collate_fn=data_collator,\n",
        "    batch_size=batch_size,\n",
        ")"
      ]
    },
    {
      "cell_type": "code",
      "execution_count": 49,
      "metadata": {},
      "outputs": [
        {
          "name": "stdout",
          "output_type": "stream",
          "text": [
            "25/25 [==============================] - 3s 100ms/step\n"
          ]
        }
      ],
      "source": [
        "preds=get_predictions(saved_model,tf_test_dataset)"
      ]
    },
    {
      "cell_type": "code",
      "execution_count": 58,
      "metadata": {},
      "outputs": [],
      "source": [
        "def reverse_mapping(preds):\n",
        "    mapping={\n",
        "        0:\"DECEPTIVENEGATIVE\",\n",
        "        1:\"DECEPTIVEPOSITIVE\",\n",
        "        2:\"TRUTHFULNEGATIVE\",\n",
        "        3:\"TRUTHFULPOSITIVE\",\n",
        "    }\n",
        "    return [mapping[pred] for pred in preds]\n",
        "\n",
        "preds_labels=reverse_mapping(preds)\n",
        "np.save(\"test_labels\",np.array(preds_labels))\n",
        "#np.load(\"test_labels.npy\")\n"
      ]
    },
    {
      "cell_type": "code",
      "execution_count": 59,
      "metadata": {},
      "outputs": [
        {
          "name": "stdout",
          "output_type": "stream",
          "text": [
            "['DECEPTIVEPOSITIVE' 'DECEPTIVENEGATIVE' 'DECEPTIVEPOSITIVE'\n",
            " 'TRUTHFULPOSITIVE' 'TRUTHFULPOSITIVE' 'TRUTHFULNEGATIVE'\n",
            " 'DECEPTIVEPOSITIVE' 'DECEPTIVEPOSITIVE' 'TRUTHFULNEGATIVE'\n",
            " 'DECEPTIVENEGATIVE' 'DECEPTIVEPOSITIVE' 'DECEPTIVEPOSITIVE'\n",
            " 'TRUTHFULNEGATIVE' 'TRUTHFULNEGATIVE' 'TRUTHFULPOSITIVE'\n",
            " 'DECEPTIVEPOSITIVE' 'TRUTHFULPOSITIVE' 'TRUTHFULPOSITIVE'\n",
            " 'DECEPTIVENEGATIVE' 'TRUTHFULPOSITIVE' 'DECEPTIVEPOSITIVE'\n",
            " 'DECEPTIVEPOSITIVE' 'DECEPTIVEPOSITIVE' 'DECEPTIVENEGATIVE'\n",
            " 'DECEPTIVEPOSITIVE' 'DECEPTIVENEGATIVE' 'TRUTHFULPOSITIVE'\n",
            " 'TRUTHFULPOSITIVE' 'TRUTHFULNEGATIVE' 'DECEPTIVENEGATIVE'\n",
            " 'TRUTHFULPOSITIVE' 'DECEPTIVEPOSITIVE' 'DECEPTIVEPOSITIVE'\n",
            " 'DECEPTIVENEGATIVE' 'TRUTHFULNEGATIVE' 'DECEPTIVENEGATIVE'\n",
            " 'TRUTHFULPOSITIVE' 'DECEPTIVEPOSITIVE' 'TRUTHFULNEGATIVE'\n",
            " 'DECEPTIVENEGATIVE' 'TRUTHFULPOSITIVE' 'TRUTHFULNEGATIVE'\n",
            " 'DECEPTIVENEGATIVE' 'TRUTHFULPOSITIVE' 'DECEPTIVENEGATIVE'\n",
            " 'TRUTHFULNEGATIVE' 'DECEPTIVENEGATIVE' 'DECEPTIVENEGATIVE'\n",
            " 'DECEPTIVENEGATIVE' 'DECEPTIVEPOSITIVE' 'TRUTHFULNEGATIVE'\n",
            " 'DECEPTIVENEGATIVE' 'DECEPTIVENEGATIVE' 'TRUTHFULPOSITIVE'\n",
            " 'TRUTHFULPOSITIVE' 'DECEPTIVEPOSITIVE' 'DECEPTIVENEGATIVE'\n",
            " 'DECEPTIVENEGATIVE' 'TRUTHFULNEGATIVE' 'DECEPTIVEPOSITIVE'\n",
            " 'TRUTHFULPOSITIVE' 'DECEPTIVENEGATIVE' 'DECEPTIVEPOSITIVE'\n",
            " 'DECEPTIVEPOSITIVE' 'DECEPTIVENEGATIVE' 'TRUTHFULNEGATIVE'\n",
            " 'DECEPTIVENEGATIVE' 'TRUTHFULNEGATIVE' 'TRUTHFULNEGATIVE'\n",
            " 'TRUTHFULNEGATIVE' 'DECEPTIVEPOSITIVE' 'TRUTHFULNEGATIVE'\n",
            " 'TRUTHFULPOSITIVE' 'TRUTHFULPOSITIVE' 'TRUTHFULNEGATIVE'\n",
            " 'TRUTHFULPOSITIVE' 'TRUTHFULNEGATIVE' 'TRUTHFULPOSITIVE'\n",
            " 'DECEPTIVEPOSITIVE' 'TRUTHFULNEGATIVE' 'DECEPTIVEPOSITIVE'\n",
            " 'DECEPTIVENEGATIVE' 'TRUTHFULNEGATIVE' 'DECEPTIVENEGATIVE'\n",
            " 'TRUTHFULNEGATIVE' 'DECEPTIVENEGATIVE' 'TRUTHFULNEGATIVE'\n",
            " 'DECEPTIVEPOSITIVE' 'TRUTHFULNEGATIVE' 'TRUTHFULPOSITIVE'\n",
            " 'DECEPTIVEPOSITIVE' 'TRUTHFULPOSITIVE' 'DECEPTIVENEGATIVE'\n",
            " 'DECEPTIVEPOSITIVE' 'DECEPTIVENEGATIVE' 'TRUTHFULNEGATIVE'\n",
            " 'TRUTHFULNEGATIVE' 'TRUTHFULPOSITIVE' 'TRUTHFULPOSITIVE'\n",
            " 'TRUTHFULPOSITIVE' 'DECEPTIVEPOSITIVE' 'DECEPTIVENEGATIVE'\n",
            " 'DECEPTIVEPOSITIVE' 'TRUTHFULPOSITIVE' 'DECEPTIVEPOSITIVE'\n",
            " 'DECEPTIVENEGATIVE' 'DECEPTIVEPOSITIVE' 'DECEPTIVEPOSITIVE'\n",
            " 'TRUTHFULPOSITIVE' 'TRUTHFULNEGATIVE' 'DECEPTIVENEGATIVE'\n",
            " 'DECEPTIVEPOSITIVE' 'TRUTHFULPOSITIVE' 'DECEPTIVENEGATIVE'\n",
            " 'TRUTHFULNEGATIVE' 'DECEPTIVEPOSITIVE' 'TRUTHFULNEGATIVE'\n",
            " 'TRUTHFULPOSITIVE' 'TRUTHFULNEGATIVE' 'DECEPTIVENEGATIVE'\n",
            " 'TRUTHFULNEGATIVE' 'DECEPTIVENEGATIVE' 'TRUTHFULPOSITIVE'\n",
            " 'DECEPTIVENEGATIVE' 'TRUTHFULNEGATIVE' 'DECEPTIVEPOSITIVE'\n",
            " 'DECEPTIVEPOSITIVE' 'TRUTHFULPOSITIVE' 'DECEPTIVENEGATIVE'\n",
            " 'DECEPTIVENEGATIVE' 'TRUTHFULPOSITIVE' 'DECEPTIVEPOSITIVE'\n",
            " 'TRUTHFULNEGATIVE' 'DECEPTIVENEGATIVE' 'DECEPTIVENEGATIVE'\n",
            " 'TRUTHFULNEGATIVE' 'TRUTHFULNEGATIVE' 'DECEPTIVEPOSITIVE'\n",
            " 'TRUTHFULNEGATIVE' 'TRUTHFULPOSITIVE' 'DECEPTIVEPOSITIVE'\n",
            " 'TRUTHFULPOSITIVE' 'TRUTHFULNEGATIVE' 'DECEPTIVENEGATIVE'\n",
            " 'TRUTHFULNEGATIVE' 'TRUTHFULNEGATIVE' 'TRUTHFULPOSITIVE'\n",
            " 'TRUTHFULPOSITIVE' 'TRUTHFULPOSITIVE' 'DECEPTIVEPOSITIVE'\n",
            " 'DECEPTIVENEGATIVE' 'DECEPTIVEPOSITIVE' 'TRUTHFULNEGATIVE'\n",
            " 'TRUTHFULNEGATIVE' 'DECEPTIVEPOSITIVE' 'DECEPTIVEPOSITIVE'\n",
            " 'TRUTHFULNEGATIVE' 'TRUTHFULPOSITIVE' 'DECEPTIVENEGATIVE'\n",
            " 'DECEPTIVENEGATIVE' 'TRUTHFULPOSITIVE' 'DECEPTIVENEGATIVE'\n",
            " 'TRUTHFULPOSITIVE' 'TRUTHFULPOSITIVE' 'DECEPTIVEPOSITIVE'\n",
            " 'TRUTHFULPOSITIVE' 'TRUTHFULPOSITIVE' 'TRUTHFULPOSITIVE'\n",
            " 'DECEPTIVENEGATIVE' 'TRUTHFULNEGATIVE' 'TRUTHFULPOSITIVE'\n",
            " 'TRUTHFULPOSITIVE' 'TRUTHFULPOSITIVE' 'TRUTHFULPOSITIVE'\n",
            " 'TRUTHFULNEGATIVE' 'DECEPTIVEPOSITIVE' 'DECEPTIVEPOSITIVE'\n",
            " 'TRUTHFULPOSITIVE' 'DECEPTIVEPOSITIVE' 'TRUTHFULPOSITIVE'\n",
            " 'TRUTHFULPOSITIVE' 'DECEPTIVENEGATIVE' 'DECEPTIVENEGATIVE'\n",
            " 'DECEPTIVEPOSITIVE' 'DECEPTIVEPOSITIVE' 'DECEPTIVENEGATIVE'\n",
            " 'TRUTHFULPOSITIVE' 'TRUTHFULNEGATIVE' 'DECEPTIVEPOSITIVE'\n",
            " 'TRUTHFULNEGATIVE' 'DECEPTIVEPOSITIVE' 'TRUTHFULNEGATIVE'\n",
            " 'DECEPTIVENEGATIVE' 'DECEPTIVENEGATIVE' 'TRUTHFULPOSITIVE'\n",
            " 'DECEPTIVENEGATIVE' 'TRUTHFULNEGATIVE' 'TRUTHFULPOSITIVE'\n",
            " 'TRUTHFULPOSITIVE' 'TRUTHFULNEGATIVE']\n"
          ]
        }
      ],
      "source": []
    },
    {
      "cell_type": "code",
      "execution_count": 67,
      "metadata": {},
      "outputs": [],
      "source": [
        "with open(\"test_just_reviews.txt\", \"r\") as file:\n",
        "    content = file.read()\n",
        "content=content.splitlines()\n",
        "df=pd.DataFrame(content,columns=[\"REVIEWS\"])\n",
        "df[\"LABEL\"]=preds_labels\n",
        "df= df.loc[:, ::-1] \n",
        "df.to_csv(\"test_reviews_and_labels.csv\",sep=\"\\t\",index=False)"
      ]
    },
    {
      "cell_type": "code",
      "execution_count": null,
      "metadata": {},
      "outputs": [],
      "source": []
    }
  ],
  "metadata": {
    "colab": {
      "provenance": [],
      "toc_visible": true
    },
    "kernelspec": {
      "display_name": "Python 3",
      "name": "python3"
    },
    "language_info": {
      "codemirror_mode": {
        "name": "ipython",
        "version": 3
      },
      "file_extension": ".py",
      "mimetype": "text/x-python",
      "name": "python",
      "nbconvert_exporter": "python",
      "pygments_lexer": "ipython3",
      "version": "3.10.12"
    }
  },
  "nbformat": 4,
  "nbformat_minor": 0
}
